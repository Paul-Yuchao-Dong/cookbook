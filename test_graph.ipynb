{
 "cells": [
  {
   "cell_type": "code",
   "execution_count": null,
   "metadata": {
    "collapsed": true
   },
   "outputs": [],
   "source": [
    "from __future__ import division, print_function\n",
    "import numpy as np\n",
    "import pandas as pd\n",
    "import matplotlib.pyplot as plt\n",
    "import matplotlib as mpl\n",
    "import seaborn as sns\n",
    "import re\n",
    "from calendar import monthrange\n",
    "from pandas_datareader import data as web\n",
    "from pandas.tseries.offsets import DateOffset, Second, Minute, Hour, Day\n",
    "\n",
    "import xlwings as xw\n",
    "from xlwings import Workbook, Range, Sheet\n",
    "\n",
    "import plotly.graph_objs as pgo\n",
    "from plotly.offline import plot, init_notebook_mode, iplot, iplot_mpl\n",
    "import pdb\n",
    "import cufflinks as cf\n",
    "\n",
    "pd.options.display.max_rows = 10\n",
    "pd.set_option('max_columns', 50)\n",
    "sns.set(style='ticks', context='talk')"
   ]
  },
  {
   "cell_type": "code",
   "execution_count": null,
   "metadata": {
    "collapsed": true
   },
   "outputs": [],
   "source": [
    "import IPython\n",
    "thousand_c = lambda x: '{:,}'.format(x)\n",
    "thousands = lambda arg, p, cycle: p.text('{:,}'.format(arg))\n",
    "np.set_printoptions(formatter={'float_kind': thousand_c, 'int_kind': thousand_c})\n",
    "class IntFormatter(pd.formats.format.GenericArrayFormatter):\n",
    "    pd.set_option('display.float_format', thousand_c)\n",
    "    def _format_strings(self):\n",
    "        formatter = self.formatter or thousand_c\n",
    "        fmt_values = [formatter(x) for x in self.values]\n",
    "        return fmt_values\n",
    "pd.formats.format.IntArrayFormatter = IntFormatter\n",
    "frm = get_ipython().display_formatter.formatters['text/plain']\n",
    "frm.for_type(int, thousands)\n",
    "frm.for_type(float, thousands)\n",
    "np.set_printoptions(precision = 4)"
   ]
  },
  {
   "cell_type": "code",
   "execution_count": null,
   "metadata": {
    "collapsed": true
   },
   "outputs": [],
   "source": [
    "from pivottablejs import pivot_ui\n",
    "from altair import Chart, X, Y, Axis, Scale\n",
    "pd.set_option('precision', 4)\n",
    "init_notebook_mode()\n",
    "cf.go_offline()"
   ]
  },
  {
   "cell_type": "code",
   "execution_count": 1,
   "metadata": {
    "collapsed": false
   },
   "outputs": [
    {
     "name": "stdout",
     "output_type": "stream",
     "text": [
      "<generator object Graph.__init__.<locals>.<genexpr> at 0x7fd84c253af0>\n",
      "{Node(5)}\n"
     ]
    }
   ],
   "source": [
    "from graph_cookbook import Edge, Graph, Node\n",
    "graph = {\n",
    "        1: [2, 3],\n",
    "        2: [4, 5, 6],\n",
    "        3: [4,6],\n",
    "        4: [5,6],\n",
    "        5: [6],\n",
    "        6: []\n",
    "    }\n",
    "\n",
    "edges = []\n",
    "\n",
    "for from_node, to_node_list in graph.items():\n",
    "    for to_node in to_node_list:\n",
    "        edges.append(Edge(Node(name=from_node), Node(name=to_node), 1))\n",
    "\n",
    "graph = Graph(edges)\n",
    "print(graph.nodes_by_level[1])\n"
   ]
  },
  {
   "cell_type": "code",
   "execution_count": 3,
   "metadata": {
    "collapsed": false
   },
   "outputs": [
    {
     "name": "stdout",
     "output_type": "stream",
     "text": [
      "0 {Node(6)}\n",
      "1 {Node(5)}\n",
      "2 {Node(4)}\n",
      "3 {Node(3), Node(2)}\n",
      "4 {Node(1)}\n"
     ]
    }
   ],
   "source": [
    "for i in range(5):\n",
    "    print(i, graph.nodes_by_level[i])"
   ]
  },
  {
   "cell_type": "code",
   "execution_count": null,
   "metadata": {
    "collapsed": true
   },
   "outputs": [],
   "source": []
  }
 ],
 "metadata": {
  "anaconda-cloud": {},
  "kernelspec": {
   "display_name": "Python [conda root]",
   "language": "python",
   "name": "conda-root-py"
  },
  "language_info": {
   "codemirror_mode": {
    "name": "ipython",
    "version": 3
   },
   "file_extension": ".py",
   "mimetype": "text/x-python",
   "name": "python",
   "nbconvert_exporter": "python",
   "pygments_lexer": "ipython3",
   "version": "3.5.2"
  },
  "nav_menu": {},
  "toc": {
   "navigate_menu": true,
   "number_sections": true,
   "sideBar": true,
   "threshold": 6,
   "toc_cell": false,
   "toc_section_display": "block",
   "toc_window_display": false
  }
 },
 "nbformat": 4,
 "nbformat_minor": 1
}
